{
  "nbformat": 4,
  "nbformat_minor": 0,
  "metadata": {
    "colab": {
      "provenance": [],
      "toc_visible": true,
      "authorship_tag": "ABX9TyPXKl/puX14C7+NpWT6R6oH",
      "include_colab_link": true
    },
    "kernelspec": {
      "name": "python3",
      "display_name": "Python 3"
    },
    "language_info": {
      "name": "python"
    },
    "widgets": {
      "application/vnd.jupyter.widget-state+json": {
        "c4a07b30d34042bfb4508b3e4acce609": {
          "model_module": "@jupyter-widgets/controls",
          "model_name": "HBoxModel",
          "model_module_version": "1.5.0",
          "state": {
            "_dom_classes": [],
            "_model_module": "@jupyter-widgets/controls",
            "_model_module_version": "1.5.0",
            "_model_name": "HBoxModel",
            "_view_count": null,
            "_view_module": "@jupyter-widgets/controls",
            "_view_module_version": "1.5.0",
            "_view_name": "HBoxView",
            "box_style": "",
            "children": [
              "IPY_MODEL_24e3baf16c7041bc8e2191e1b2de92f6",
              "IPY_MODEL_2bb7a865233244d5ac3ea1c309e29d6b",
              "IPY_MODEL_649f12dc8d214b01a2e2704cc1db4383"
            ],
            "layout": "IPY_MODEL_47ef5ec1dd3e4e8d8ce73fad9c406308"
          }
        },
        "24e3baf16c7041bc8e2191e1b2de92f6": {
          "model_module": "@jupyter-widgets/controls",
          "model_name": "HTMLModel",
          "model_module_version": "1.5.0",
          "state": {
            "_dom_classes": [],
            "_model_module": "@jupyter-widgets/controls",
            "_model_module_version": "1.5.0",
            "_model_name": "HTMLModel",
            "_view_count": null,
            "_view_module": "@jupyter-widgets/controls",
            "_view_module_version": "1.5.0",
            "_view_name": "HTMLView",
            "description": "",
            "description_tooltip": null,
            "layout": "IPY_MODEL_4f9310a0355f443aa80faa030c56b8b5",
            "placeholder": "​",
            "style": "IPY_MODEL_432f4c2f79164ed4996daef4b1943345",
            "value": "Batches: 100%"
          }
        },
        "2bb7a865233244d5ac3ea1c309e29d6b": {
          "model_module": "@jupyter-widgets/controls",
          "model_name": "FloatProgressModel",
          "model_module_version": "1.5.0",
          "state": {
            "_dom_classes": [],
            "_model_module": "@jupyter-widgets/controls",
            "_model_module_version": "1.5.0",
            "_model_name": "FloatProgressModel",
            "_view_count": null,
            "_view_module": "@jupyter-widgets/controls",
            "_view_module_version": "1.5.0",
            "_view_name": "ProgressView",
            "bar_style": "success",
            "description": "",
            "description_tooltip": null,
            "layout": "IPY_MODEL_ac2dca4159a44e2b85d5aa822ca9ba5f",
            "max": 4365,
            "min": 0,
            "orientation": "horizontal",
            "style": "IPY_MODEL_26e9d1def09b47b3af26d149b5263d83",
            "value": 4365
          }
        },
        "649f12dc8d214b01a2e2704cc1db4383": {
          "model_module": "@jupyter-widgets/controls",
          "model_name": "HTMLModel",
          "model_module_version": "1.5.0",
          "state": {
            "_dom_classes": [],
            "_model_module": "@jupyter-widgets/controls",
            "_model_module_version": "1.5.0",
            "_model_name": "HTMLModel",
            "_view_count": null,
            "_view_module": "@jupyter-widgets/controls",
            "_view_module_version": "1.5.0",
            "_view_name": "HTMLView",
            "description": "",
            "description_tooltip": null,
            "layout": "IPY_MODEL_d4d3ca7a832b40ce95936c3ab045e05f",
            "placeholder": "​",
            "style": "IPY_MODEL_6f61952e76244f0cb88a232c39a467a4",
            "value": " 4365/4365 [20:14&lt;00:00,  8.94it/s]"
          }
        },
        "47ef5ec1dd3e4e8d8ce73fad9c406308": {
          "model_module": "@jupyter-widgets/base",
          "model_name": "LayoutModel",
          "model_module_version": "1.2.0",
          "state": {
            "_model_module": "@jupyter-widgets/base",
            "_model_module_version": "1.2.0",
            "_model_name": "LayoutModel",
            "_view_count": null,
            "_view_module": "@jupyter-widgets/base",
            "_view_module_version": "1.2.0",
            "_view_name": "LayoutView",
            "align_content": null,
            "align_items": null,
            "align_self": null,
            "border": null,
            "bottom": null,
            "display": null,
            "flex": null,
            "flex_flow": null,
            "grid_area": null,
            "grid_auto_columns": null,
            "grid_auto_flow": null,
            "grid_auto_rows": null,
            "grid_column": null,
            "grid_gap": null,
            "grid_row": null,
            "grid_template_areas": null,
            "grid_template_columns": null,
            "grid_template_rows": null,
            "height": null,
            "justify_content": null,
            "justify_items": null,
            "left": null,
            "margin": null,
            "max_height": null,
            "max_width": null,
            "min_height": null,
            "min_width": null,
            "object_fit": null,
            "object_position": null,
            "order": null,
            "overflow": null,
            "overflow_x": null,
            "overflow_y": null,
            "padding": null,
            "right": null,
            "top": null,
            "visibility": null,
            "width": null
          }
        },
        "4f9310a0355f443aa80faa030c56b8b5": {
          "model_module": "@jupyter-widgets/base",
          "model_name": "LayoutModel",
          "model_module_version": "1.2.0",
          "state": {
            "_model_module": "@jupyter-widgets/base",
            "_model_module_version": "1.2.0",
            "_model_name": "LayoutModel",
            "_view_count": null,
            "_view_module": "@jupyter-widgets/base",
            "_view_module_version": "1.2.0",
            "_view_name": "LayoutView",
            "align_content": null,
            "align_items": null,
            "align_self": null,
            "border": null,
            "bottom": null,
            "display": null,
            "flex": null,
            "flex_flow": null,
            "grid_area": null,
            "grid_auto_columns": null,
            "grid_auto_flow": null,
            "grid_auto_rows": null,
            "grid_column": null,
            "grid_gap": null,
            "grid_row": null,
            "grid_template_areas": null,
            "grid_template_columns": null,
            "grid_template_rows": null,
            "height": null,
            "justify_content": null,
            "justify_items": null,
            "left": null,
            "margin": null,
            "max_height": null,
            "max_width": null,
            "min_height": null,
            "min_width": null,
            "object_fit": null,
            "object_position": null,
            "order": null,
            "overflow": null,
            "overflow_x": null,
            "overflow_y": null,
            "padding": null,
            "right": null,
            "top": null,
            "visibility": null,
            "width": null
          }
        },
        "432f4c2f79164ed4996daef4b1943345": {
          "model_module": "@jupyter-widgets/controls",
          "model_name": "DescriptionStyleModel",
          "model_module_version": "1.5.0",
          "state": {
            "_model_module": "@jupyter-widgets/controls",
            "_model_module_version": "1.5.0",
            "_model_name": "DescriptionStyleModel",
            "_view_count": null,
            "_view_module": "@jupyter-widgets/base",
            "_view_module_version": "1.2.0",
            "_view_name": "StyleView",
            "description_width": ""
          }
        },
        "ac2dca4159a44e2b85d5aa822ca9ba5f": {
          "model_module": "@jupyter-widgets/base",
          "model_name": "LayoutModel",
          "model_module_version": "1.2.0",
          "state": {
            "_model_module": "@jupyter-widgets/base",
            "_model_module_version": "1.2.0",
            "_model_name": "LayoutModel",
            "_view_count": null,
            "_view_module": "@jupyter-widgets/base",
            "_view_module_version": "1.2.0",
            "_view_name": "LayoutView",
            "align_content": null,
            "align_items": null,
            "align_self": null,
            "border": null,
            "bottom": null,
            "display": null,
            "flex": null,
            "flex_flow": null,
            "grid_area": null,
            "grid_auto_columns": null,
            "grid_auto_flow": null,
            "grid_auto_rows": null,
            "grid_column": null,
            "grid_gap": null,
            "grid_row": null,
            "grid_template_areas": null,
            "grid_template_columns": null,
            "grid_template_rows": null,
            "height": null,
            "justify_content": null,
            "justify_items": null,
            "left": null,
            "margin": null,
            "max_height": null,
            "max_width": null,
            "min_height": null,
            "min_width": null,
            "object_fit": null,
            "object_position": null,
            "order": null,
            "overflow": null,
            "overflow_x": null,
            "overflow_y": null,
            "padding": null,
            "right": null,
            "top": null,
            "visibility": null,
            "width": null
          }
        },
        "26e9d1def09b47b3af26d149b5263d83": {
          "model_module": "@jupyter-widgets/controls",
          "model_name": "ProgressStyleModel",
          "model_module_version": "1.5.0",
          "state": {
            "_model_module": "@jupyter-widgets/controls",
            "_model_module_version": "1.5.0",
            "_model_name": "ProgressStyleModel",
            "_view_count": null,
            "_view_module": "@jupyter-widgets/base",
            "_view_module_version": "1.2.0",
            "_view_name": "StyleView",
            "bar_color": null,
            "description_width": ""
          }
        },
        "d4d3ca7a832b40ce95936c3ab045e05f": {
          "model_module": "@jupyter-widgets/base",
          "model_name": "LayoutModel",
          "model_module_version": "1.2.0",
          "state": {
            "_model_module": "@jupyter-widgets/base",
            "_model_module_version": "1.2.0",
            "_model_name": "LayoutModel",
            "_view_count": null,
            "_view_module": "@jupyter-widgets/base",
            "_view_module_version": "1.2.0",
            "_view_name": "LayoutView",
            "align_content": null,
            "align_items": null,
            "align_self": null,
            "border": null,
            "bottom": null,
            "display": null,
            "flex": null,
            "flex_flow": null,
            "grid_area": null,
            "grid_auto_columns": null,
            "grid_auto_flow": null,
            "grid_auto_rows": null,
            "grid_column": null,
            "grid_gap": null,
            "grid_row": null,
            "grid_template_areas": null,
            "grid_template_columns": null,
            "grid_template_rows": null,
            "height": null,
            "justify_content": null,
            "justify_items": null,
            "left": null,
            "margin": null,
            "max_height": null,
            "max_width": null,
            "min_height": null,
            "min_width": null,
            "object_fit": null,
            "object_position": null,
            "order": null,
            "overflow": null,
            "overflow_x": null,
            "overflow_y": null,
            "padding": null,
            "right": null,
            "top": null,
            "visibility": null,
            "width": null
          }
        },
        "6f61952e76244f0cb88a232c39a467a4": {
          "model_module": "@jupyter-widgets/controls",
          "model_name": "DescriptionStyleModel",
          "model_module_version": "1.5.0",
          "state": {
            "_model_module": "@jupyter-widgets/controls",
            "_model_module_version": "1.5.0",
            "_model_name": "DescriptionStyleModel",
            "_view_count": null,
            "_view_module": "@jupyter-widgets/base",
            "_view_module_version": "1.2.0",
            "_view_name": "StyleView",
            "description_width": ""
          }
        }
      }
    }
  },
  "cells": [
    {
      "cell_type": "markdown",
      "metadata": {
        "id": "view-in-github",
        "colab_type": "text"
      },
      "source": [
        "<a href=\"https://colab.research.google.com/github/MStamirski/News/blob/main/SentenceTransform.ipynb\" target=\"_parent\"><img src=\"https://colab.research.google.com/assets/colab-badge.svg\" alt=\"Open In Colab\"/></a>"
      ]
    },
    {
      "cell_type": "code",
      "execution_count": null,
      "metadata": {
        "colab": {
          "base_uri": "https://localhost:8080/"
        },
        "id": "XlXFuQTq1K55",
        "outputId": "70093ddf-91d8-4f78-8c6b-6427ea96e97d"
      },
      "outputs": [
        {
          "output_type": "stream",
          "name": "stdout",
          "text": [
            "Mounted at /content/drive/\n"
          ]
        }
      ],
      "source": [
        "from google.colab import drive\n",
        "drive.mount('/content/drive/')"
      ]
    },
    {
      "cell_type": "code",
      "source": [
        "import numpy as np\n",
        "import pandas as pd\n",
        "import random as rnd"
      ],
      "metadata": {
        "id": "kLk59vQB15OR"
      },
      "execution_count": null,
      "outputs": []
    },
    {
      "cell_type": "markdown",
      "source": [
        "# Read prepared dataset"
      ],
      "metadata": {
        "id": "KIQ43zCYMr1Y"
      }
    },
    {
      "cell_type": "code",
      "source": [
        "allnews = pd.read_csv(\"drive/MyDrive/Colab_Notebooks/SDA_upskill/News/data/AllNews.csv\")\n",
        "allnews"
      ],
      "metadata": {
        "colab": {
          "base_uri": "https://localhost:8080/",
          "height": 424
        },
        "id": "IHlmecWH16uA",
        "outputId": "2625f577-4108-4bf4-cc4c-fa7ccda6ae53"
      },
      "execution_count": null,
      "outputs": [
        {
          "output_type": "execute_result",
          "data": {
            "text/plain": [
              "        real                                               news\n",
              "0          1  kandi burruss explodes rape accusation real ho...\n",
              "1          1      people choice award 2018 best red carpet look\n",
              "2          1  sophia bush send sweet birthday message one tr...\n",
              "3          1  colombian singer maluma spark rumour inappropr...\n",
              "4          1  gossip girl 10 year later upper east siders sh...\n",
              "...      ...                                                ...\n",
              "139657     1  fully commit nato back new us approach afghani...\n",
              "139658     1     lexisnexis withdraw two product chinese market\n",
              "139659     1                minsk cultural hub become authority\n",
              "139660     1  vatican upbeat possibility pope francis visit ...\n",
              "139661     1        indonesia buy 114 billion worth russian jet\n",
              "\n",
              "[139662 rows x 2 columns]"
            ],
            "text/html": [
              "\n",
              "  <div id=\"df-5b6e0ab5-d9dc-4842-8c53-ada265e041ed\">\n",
              "    <div class=\"colab-df-container\">\n",
              "      <div>\n",
              "<style scoped>\n",
              "    .dataframe tbody tr th:only-of-type {\n",
              "        vertical-align: middle;\n",
              "    }\n",
              "\n",
              "    .dataframe tbody tr th {\n",
              "        vertical-align: top;\n",
              "    }\n",
              "\n",
              "    .dataframe thead th {\n",
              "        text-align: right;\n",
              "    }\n",
              "</style>\n",
              "<table border=\"1\" class=\"dataframe\">\n",
              "  <thead>\n",
              "    <tr style=\"text-align: right;\">\n",
              "      <th></th>\n",
              "      <th>real</th>\n",
              "      <th>news</th>\n",
              "    </tr>\n",
              "  </thead>\n",
              "  <tbody>\n",
              "    <tr>\n",
              "      <th>0</th>\n",
              "      <td>1</td>\n",
              "      <td>kandi burruss explodes rape accusation real ho...</td>\n",
              "    </tr>\n",
              "    <tr>\n",
              "      <th>1</th>\n",
              "      <td>1</td>\n",
              "      <td>people choice award 2018 best red carpet look</td>\n",
              "    </tr>\n",
              "    <tr>\n",
              "      <th>2</th>\n",
              "      <td>1</td>\n",
              "      <td>sophia bush send sweet birthday message one tr...</td>\n",
              "    </tr>\n",
              "    <tr>\n",
              "      <th>3</th>\n",
              "      <td>1</td>\n",
              "      <td>colombian singer maluma spark rumour inappropr...</td>\n",
              "    </tr>\n",
              "    <tr>\n",
              "      <th>4</th>\n",
              "      <td>1</td>\n",
              "      <td>gossip girl 10 year later upper east siders sh...</td>\n",
              "    </tr>\n",
              "    <tr>\n",
              "      <th>...</th>\n",
              "      <td>...</td>\n",
              "      <td>...</td>\n",
              "    </tr>\n",
              "    <tr>\n",
              "      <th>139657</th>\n",
              "      <td>1</td>\n",
              "      <td>fully commit nato back new us approach afghani...</td>\n",
              "    </tr>\n",
              "    <tr>\n",
              "      <th>139658</th>\n",
              "      <td>1</td>\n",
              "      <td>lexisnexis withdraw two product chinese market</td>\n",
              "    </tr>\n",
              "    <tr>\n",
              "      <th>139659</th>\n",
              "      <td>1</td>\n",
              "      <td>minsk cultural hub become authority</td>\n",
              "    </tr>\n",
              "    <tr>\n",
              "      <th>139660</th>\n",
              "      <td>1</td>\n",
              "      <td>vatican upbeat possibility pope francis visit ...</td>\n",
              "    </tr>\n",
              "    <tr>\n",
              "      <th>139661</th>\n",
              "      <td>1</td>\n",
              "      <td>indonesia buy 114 billion worth russian jet</td>\n",
              "    </tr>\n",
              "  </tbody>\n",
              "</table>\n",
              "<p>139662 rows × 2 columns</p>\n",
              "</div>\n",
              "      <button class=\"colab-df-convert\" onclick=\"convertToInteractive('df-5b6e0ab5-d9dc-4842-8c53-ada265e041ed')\"\n",
              "              title=\"Convert this dataframe to an interactive table.\"\n",
              "              style=\"display:none;\">\n",
              "        \n",
              "  <svg xmlns=\"http://www.w3.org/2000/svg\" height=\"24px\"viewBox=\"0 0 24 24\"\n",
              "       width=\"24px\">\n",
              "    <path d=\"M0 0h24v24H0V0z\" fill=\"none\"/>\n",
              "    <path d=\"M18.56 5.44l.94 2.06.94-2.06 2.06-.94-2.06-.94-.94-2.06-.94 2.06-2.06.94zm-11 1L8.5 8.5l.94-2.06 2.06-.94-2.06-.94L8.5 2.5l-.94 2.06-2.06.94zm10 10l.94 2.06.94-2.06 2.06-.94-2.06-.94-.94-2.06-.94 2.06-2.06.94z\"/><path d=\"M17.41 7.96l-1.37-1.37c-.4-.4-.92-.59-1.43-.59-.52 0-1.04.2-1.43.59L10.3 9.45l-7.72 7.72c-.78.78-.78 2.05 0 2.83L4 21.41c.39.39.9.59 1.41.59.51 0 1.02-.2 1.41-.59l7.78-7.78 2.81-2.81c.8-.78.8-2.07 0-2.86zM5.41 20L4 18.59l7.72-7.72 1.47 1.35L5.41 20z\"/>\n",
              "  </svg>\n",
              "      </button>\n",
              "      \n",
              "  <style>\n",
              "    .colab-df-container {\n",
              "      display:flex;\n",
              "      flex-wrap:wrap;\n",
              "      gap: 12px;\n",
              "    }\n",
              "\n",
              "    .colab-df-convert {\n",
              "      background-color: #E8F0FE;\n",
              "      border: none;\n",
              "      border-radius: 50%;\n",
              "      cursor: pointer;\n",
              "      display: none;\n",
              "      fill: #1967D2;\n",
              "      height: 32px;\n",
              "      padding: 0 0 0 0;\n",
              "      width: 32px;\n",
              "    }\n",
              "\n",
              "    .colab-df-convert:hover {\n",
              "      background-color: #E2EBFA;\n",
              "      box-shadow: 0px 1px 2px rgba(60, 64, 67, 0.3), 0px 1px 3px 1px rgba(60, 64, 67, 0.15);\n",
              "      fill: #174EA6;\n",
              "    }\n",
              "\n",
              "    [theme=dark] .colab-df-convert {\n",
              "      background-color: #3B4455;\n",
              "      fill: #D2E3FC;\n",
              "    }\n",
              "\n",
              "    [theme=dark] .colab-df-convert:hover {\n",
              "      background-color: #434B5C;\n",
              "      box-shadow: 0px 1px 3px 1px rgba(0, 0, 0, 0.15);\n",
              "      filter: drop-shadow(0px 1px 2px rgba(0, 0, 0, 0.3));\n",
              "      fill: #FFFFFF;\n",
              "    }\n",
              "  </style>\n",
              "\n",
              "      <script>\n",
              "        const buttonEl =\n",
              "          document.querySelector('#df-5b6e0ab5-d9dc-4842-8c53-ada265e041ed button.colab-df-convert');\n",
              "        buttonEl.style.display =\n",
              "          google.colab.kernel.accessAllowed ? 'block' : 'none';\n",
              "\n",
              "        async function convertToInteractive(key) {\n",
              "          const element = document.querySelector('#df-5b6e0ab5-d9dc-4842-8c53-ada265e041ed');\n",
              "          const dataTable =\n",
              "            await google.colab.kernel.invokeFunction('convertToInteractive',\n",
              "                                                     [key], {});\n",
              "          if (!dataTable) return;\n",
              "\n",
              "          const docLinkHtml = 'Like what you see? Visit the ' +\n",
              "            '<a target=\"_blank\" href=https://colab.research.google.com/notebooks/data_table.ipynb>data table notebook</a>'\n",
              "            + ' to learn more about interactive tables.';\n",
              "          element.innerHTML = '';\n",
              "          dataTable['output_type'] = 'display_data';\n",
              "          await google.colab.output.renderOutput(dataTable, element);\n",
              "          const docLink = document.createElement('div');\n",
              "          docLink.innerHTML = docLinkHtml;\n",
              "          element.appendChild(docLink);\n",
              "        }\n",
              "      </script>\n",
              "    </div>\n",
              "  </div>\n",
              "  "
            ]
          },
          "metadata": {},
          "execution_count": 3
        }
      ]
    },
    {
      "cell_type": "markdown",
      "source": [
        "# Features based on vectors constructed by model SentenceTransformer"
      ],
      "metadata": {
        "id": "Ta4N0dydM8LP"
      }
    },
    {
      "cell_type": "code",
      "source": [
        "!pip install -U sentence-transformers"
      ],
      "metadata": {
        "id": "dHtdKIcm3PK-"
      },
      "execution_count": null,
      "outputs": []
    },
    {
      "cell_type": "code",
      "source": [
        "from sentence_transformers import SentenceTransformer\n",
        "model_sentrans = SentenceTransformer('all-MiniLM-L6-v2')"
      ],
      "metadata": {
        "id": "Nf6XHFM23bio"
      },
      "execution_count": null,
      "outputs": []
    },
    {
      "cell_type": "code",
      "source": [
        "X_matrix = model_sentrans.encode(allnews['news'], show_progress_bar=True, convert_to_numpy=True)"
      ],
      "metadata": {
        "colab": {
          "base_uri": "https://localhost:8080/",
          "height": 49,
          "referenced_widgets": [
            "c4a07b30d34042bfb4508b3e4acce609",
            "24e3baf16c7041bc8e2191e1b2de92f6",
            "2bb7a865233244d5ac3ea1c309e29d6b",
            "649f12dc8d214b01a2e2704cc1db4383",
            "47ef5ec1dd3e4e8d8ce73fad9c406308",
            "4f9310a0355f443aa80faa030c56b8b5",
            "432f4c2f79164ed4996daef4b1943345",
            "ac2dca4159a44e2b85d5aa822ca9ba5f",
            "26e9d1def09b47b3af26d149b5263d83",
            "d4d3ca7a832b40ce95936c3ab045e05f",
            "6f61952e76244f0cb88a232c39a467a4"
          ]
        },
        "id": "ZZGSEbhc4PLQ",
        "outputId": "e3d2dac9-0fd6-4586-d1ca-a3b85b4959b4"
      },
      "execution_count": null,
      "outputs": [
        {
          "output_type": "display_data",
          "data": {
            "text/plain": [
              "Batches:   0%|          | 0/4365 [00:00<?, ?it/s]"
            ],
            "application/vnd.jupyter.widget-view+json": {
              "version_major": 2,
              "version_minor": 0,
              "model_id": "c4a07b30d34042bfb4508b3e4acce609"
            }
          },
          "metadata": {}
        }
      ]
    },
    {
      "cell_type": "code",
      "source": [
        "X_matrix.shape"
      ],
      "metadata": {
        "colab": {
          "base_uri": "https://localhost:8080/"
        },
        "id": "CBsnCyMQ33vo",
        "outputId": "4f4fa7fe-f6c2-4e72-8d7e-5c1bf6fecdae"
      },
      "execution_count": null,
      "outputs": [
        {
          "output_type": "execute_result",
          "data": {
            "text/plain": [
              "(139662, 384)"
            ]
          },
          "metadata": {},
          "execution_count": 11
        }
      ]
    },
    {
      "cell_type": "code",
      "source": [
        "X_matrix"
      ],
      "metadata": {
        "colab": {
          "base_uri": "https://localhost:8080/"
        },
        "id": "T_0xopzXAIAI",
        "outputId": "644ac07c-cfb5-4c1c-b8ba-eb76281e38cb"
      },
      "execution_count": null,
      "outputs": [
        {
          "output_type": "execute_result",
          "data": {
            "text/plain": [
              "array([[-0.06199614, -0.04289573, -0.01530565, ...,  0.01126081,\n",
              "        -0.0128144 , -0.01081988],\n",
              "       [-0.08747299,  0.01583917, -0.00280304, ..., -0.04382647,\n",
              "        -0.0014506 ,  0.09105194],\n",
              "       [-0.05400676, -0.07595815,  0.06901807, ..., -0.01545229,\n",
              "        -0.06042938, -0.09684711],\n",
              "       ...,\n",
              "       [ 0.10546493,  0.01751536, -0.01296209, ..., -0.01662026,\n",
              "         0.0617567 , -0.08887193],\n",
              "       [ 0.03876783, -0.00643933,  0.00632192, ..., -0.08159885,\n",
              "        -0.01975142, -0.08951832],\n",
              "       [-0.00715282,  0.01453741, -0.10237645, ..., -0.07948569,\n",
              "        -0.05018834, -0.010008  ]], dtype=float32)"
            ]
          },
          "metadata": {},
          "execution_count": 12
        }
      ]
    },
    {
      "cell_type": "code",
      "source": [
        "features = ['feat'+str(i+1) for i in range(len(X_matrix[0]))]\n",
        "X = pd.DataFrame(data=X_matrix, columns=features)\n",
        "X"
      ],
      "metadata": {
        "colab": {
          "base_uri": "https://localhost:8080/",
          "height": 424
        },
        "id": "yZgA8Ir6APB_",
        "outputId": "302a09df-7ae6-4907-900b-bf138f3b1e8c"
      },
      "execution_count": null,
      "outputs": [
        {
          "output_type": "execute_result",
          "data": {
            "text/plain": [
              "           feat1     feat2     feat3     feat4     feat5     feat6     feat7  \\\n",
              "0      -0.061996 -0.042896 -0.015306  0.070030  0.048771  0.027527  0.019399   \n",
              "1      -0.087473  0.015839 -0.002803 -0.005971  0.015988  0.096913  0.065061   \n",
              "2      -0.054007 -0.075958  0.069018  0.020588 -0.002013 -0.002309  0.024125   \n",
              "3      -0.018324 -0.042300  0.012398 -0.020198 -0.057633  0.051778  0.040557   \n",
              "4      -0.052895 -0.082876  0.079771 -0.034636  0.058511  0.022344  0.008728   \n",
              "...          ...       ...       ...       ...       ...       ...       ...   \n",
              "139657 -0.042041  0.017048  0.031729  0.001947 -0.027307 -0.020020 -0.067829   \n",
              "139658 -0.004914 -0.020960  0.040961 -0.027712  0.017017  0.049987  0.092078   \n",
              "139659  0.105465  0.017515 -0.012962  0.010675 -0.007861  0.067358 -0.004015   \n",
              "139660  0.038768 -0.006439  0.006322  0.073279 -0.003624 -0.050868  0.002106   \n",
              "139661 -0.007153  0.014537 -0.102376  0.021536 -0.086388 -0.027317  0.000771   \n",
              "\n",
              "           feat8     feat9    feat10  ...   feat375   feat376   feat377  \\\n",
              "0      -0.069034 -0.007712 -0.022029  ...  0.031787  0.005278  0.039628   \n",
              "1      -0.008517 -0.016335 -0.035012  ...  0.035634 -0.084484 -0.039872   \n",
              "2      -0.023060 -0.012680 -0.011706  ... -0.018464  0.010650 -0.014505   \n",
              "3       0.035006  0.043505 -0.064807  ... -0.094950 -0.021456 -0.081562   \n",
              "4       0.003240  0.017817 -0.076545  ... -0.021072 -0.003319  0.004749   \n",
              "...          ...       ...       ...  ...       ...       ...       ...   \n",
              "139657 -0.062296 -0.046027  0.039939  ...  0.085275  0.077733  0.047215   \n",
              "139658  0.002572  0.016596 -0.067592  ... -0.036900 -0.036450 -0.078411   \n",
              "139659 -0.043347  0.002382  0.021722  ...  0.048130 -0.066217 -0.029552   \n",
              "139660 -0.026045  0.026938 -0.095313  ... -0.029317  0.074843  0.020435   \n",
              "139661  0.050969 -0.012472  0.011699  ... -0.082736  0.040694 -0.057101   \n",
              "\n",
              "         feat378   feat379   feat380   feat381   feat382   feat383   feat384  \n",
              "0       0.052072 -0.009688  0.012679  0.051608  0.011261 -0.012814 -0.010820  \n",
              "1      -0.014519  0.077165  0.052627  0.062203 -0.043826 -0.001451  0.091052  \n",
              "2      -0.060406  0.077907  0.066160  0.023197 -0.015452 -0.060429 -0.096847  \n",
              "3       0.046101  0.050859 -0.058188  0.051845 -0.092362 -0.028255 -0.063820  \n",
              "4       0.049344 -0.017660  0.074058  0.037879 -0.082261 -0.049489 -0.033391  \n",
              "...          ...       ...       ...       ...       ...       ...       ...  \n",
              "139657 -0.021130 -0.025005 -0.008210 -0.016571 -0.074725  0.028247 -0.024076  \n",
              "139658  0.034628 -0.061234 -0.007662  0.014682 -0.057440  0.052703  0.056332  \n",
              "139659  0.001452 -0.049662  0.044276 -0.048217 -0.016620  0.061757 -0.088872  \n",
              "139660  0.008710 -0.014511 -0.025964 -0.024715 -0.081599 -0.019751 -0.089518  \n",
              "139661  0.075470  0.029025 -0.002101 -0.060168 -0.079486 -0.050188 -0.010008  \n",
              "\n",
              "[139662 rows x 384 columns]"
            ],
            "text/html": [
              "\n",
              "  <div id=\"df-e0d6be32-69a8-454e-9b17-b8bc88a3cc0d\">\n",
              "    <div class=\"colab-df-container\">\n",
              "      <div>\n",
              "<style scoped>\n",
              "    .dataframe tbody tr th:only-of-type {\n",
              "        vertical-align: middle;\n",
              "    }\n",
              "\n",
              "    .dataframe tbody tr th {\n",
              "        vertical-align: top;\n",
              "    }\n",
              "\n",
              "    .dataframe thead th {\n",
              "        text-align: right;\n",
              "    }\n",
              "</style>\n",
              "<table border=\"1\" class=\"dataframe\">\n",
              "  <thead>\n",
              "    <tr style=\"text-align: right;\">\n",
              "      <th></th>\n",
              "      <th>feat1</th>\n",
              "      <th>feat2</th>\n",
              "      <th>feat3</th>\n",
              "      <th>feat4</th>\n",
              "      <th>feat5</th>\n",
              "      <th>feat6</th>\n",
              "      <th>feat7</th>\n",
              "      <th>feat8</th>\n",
              "      <th>feat9</th>\n",
              "      <th>feat10</th>\n",
              "      <th>...</th>\n",
              "      <th>feat375</th>\n",
              "      <th>feat376</th>\n",
              "      <th>feat377</th>\n",
              "      <th>feat378</th>\n",
              "      <th>feat379</th>\n",
              "      <th>feat380</th>\n",
              "      <th>feat381</th>\n",
              "      <th>feat382</th>\n",
              "      <th>feat383</th>\n",
              "      <th>feat384</th>\n",
              "    </tr>\n",
              "  </thead>\n",
              "  <tbody>\n",
              "    <tr>\n",
              "      <th>0</th>\n",
              "      <td>-0.061996</td>\n",
              "      <td>-0.042896</td>\n",
              "      <td>-0.015306</td>\n",
              "      <td>0.070030</td>\n",
              "      <td>0.048771</td>\n",
              "      <td>0.027527</td>\n",
              "      <td>0.019399</td>\n",
              "      <td>-0.069034</td>\n",
              "      <td>-0.007712</td>\n",
              "      <td>-0.022029</td>\n",
              "      <td>...</td>\n",
              "      <td>0.031787</td>\n",
              "      <td>0.005278</td>\n",
              "      <td>0.039628</td>\n",
              "      <td>0.052072</td>\n",
              "      <td>-0.009688</td>\n",
              "      <td>0.012679</td>\n",
              "      <td>0.051608</td>\n",
              "      <td>0.011261</td>\n",
              "      <td>-0.012814</td>\n",
              "      <td>-0.010820</td>\n",
              "    </tr>\n",
              "    <tr>\n",
              "      <th>1</th>\n",
              "      <td>-0.087473</td>\n",
              "      <td>0.015839</td>\n",
              "      <td>-0.002803</td>\n",
              "      <td>-0.005971</td>\n",
              "      <td>0.015988</td>\n",
              "      <td>0.096913</td>\n",
              "      <td>0.065061</td>\n",
              "      <td>-0.008517</td>\n",
              "      <td>-0.016335</td>\n",
              "      <td>-0.035012</td>\n",
              "      <td>...</td>\n",
              "      <td>0.035634</td>\n",
              "      <td>-0.084484</td>\n",
              "      <td>-0.039872</td>\n",
              "      <td>-0.014519</td>\n",
              "      <td>0.077165</td>\n",
              "      <td>0.052627</td>\n",
              "      <td>0.062203</td>\n",
              "      <td>-0.043826</td>\n",
              "      <td>-0.001451</td>\n",
              "      <td>0.091052</td>\n",
              "    </tr>\n",
              "    <tr>\n",
              "      <th>2</th>\n",
              "      <td>-0.054007</td>\n",
              "      <td>-0.075958</td>\n",
              "      <td>0.069018</td>\n",
              "      <td>0.020588</td>\n",
              "      <td>-0.002013</td>\n",
              "      <td>-0.002309</td>\n",
              "      <td>0.024125</td>\n",
              "      <td>-0.023060</td>\n",
              "      <td>-0.012680</td>\n",
              "      <td>-0.011706</td>\n",
              "      <td>...</td>\n",
              "      <td>-0.018464</td>\n",
              "      <td>0.010650</td>\n",
              "      <td>-0.014505</td>\n",
              "      <td>-0.060406</td>\n",
              "      <td>0.077907</td>\n",
              "      <td>0.066160</td>\n",
              "      <td>0.023197</td>\n",
              "      <td>-0.015452</td>\n",
              "      <td>-0.060429</td>\n",
              "      <td>-0.096847</td>\n",
              "    </tr>\n",
              "    <tr>\n",
              "      <th>3</th>\n",
              "      <td>-0.018324</td>\n",
              "      <td>-0.042300</td>\n",
              "      <td>0.012398</td>\n",
              "      <td>-0.020198</td>\n",
              "      <td>-0.057633</td>\n",
              "      <td>0.051778</td>\n",
              "      <td>0.040557</td>\n",
              "      <td>0.035006</td>\n",
              "      <td>0.043505</td>\n",
              "      <td>-0.064807</td>\n",
              "      <td>...</td>\n",
              "      <td>-0.094950</td>\n",
              "      <td>-0.021456</td>\n",
              "      <td>-0.081562</td>\n",
              "      <td>0.046101</td>\n",
              "      <td>0.050859</td>\n",
              "      <td>-0.058188</td>\n",
              "      <td>0.051845</td>\n",
              "      <td>-0.092362</td>\n",
              "      <td>-0.028255</td>\n",
              "      <td>-0.063820</td>\n",
              "    </tr>\n",
              "    <tr>\n",
              "      <th>4</th>\n",
              "      <td>-0.052895</td>\n",
              "      <td>-0.082876</td>\n",
              "      <td>0.079771</td>\n",
              "      <td>-0.034636</td>\n",
              "      <td>0.058511</td>\n",
              "      <td>0.022344</td>\n",
              "      <td>0.008728</td>\n",
              "      <td>0.003240</td>\n",
              "      <td>0.017817</td>\n",
              "      <td>-0.076545</td>\n",
              "      <td>...</td>\n",
              "      <td>-0.021072</td>\n",
              "      <td>-0.003319</td>\n",
              "      <td>0.004749</td>\n",
              "      <td>0.049344</td>\n",
              "      <td>-0.017660</td>\n",
              "      <td>0.074058</td>\n",
              "      <td>0.037879</td>\n",
              "      <td>-0.082261</td>\n",
              "      <td>-0.049489</td>\n",
              "      <td>-0.033391</td>\n",
              "    </tr>\n",
              "    <tr>\n",
              "      <th>...</th>\n",
              "      <td>...</td>\n",
              "      <td>...</td>\n",
              "      <td>...</td>\n",
              "      <td>...</td>\n",
              "      <td>...</td>\n",
              "      <td>...</td>\n",
              "      <td>...</td>\n",
              "      <td>...</td>\n",
              "      <td>...</td>\n",
              "      <td>...</td>\n",
              "      <td>...</td>\n",
              "      <td>...</td>\n",
              "      <td>...</td>\n",
              "      <td>...</td>\n",
              "      <td>...</td>\n",
              "      <td>...</td>\n",
              "      <td>...</td>\n",
              "      <td>...</td>\n",
              "      <td>...</td>\n",
              "      <td>...</td>\n",
              "      <td>...</td>\n",
              "    </tr>\n",
              "    <tr>\n",
              "      <th>139657</th>\n",
              "      <td>-0.042041</td>\n",
              "      <td>0.017048</td>\n",
              "      <td>0.031729</td>\n",
              "      <td>0.001947</td>\n",
              "      <td>-0.027307</td>\n",
              "      <td>-0.020020</td>\n",
              "      <td>-0.067829</td>\n",
              "      <td>-0.062296</td>\n",
              "      <td>-0.046027</td>\n",
              "      <td>0.039939</td>\n",
              "      <td>...</td>\n",
              "      <td>0.085275</td>\n",
              "      <td>0.077733</td>\n",
              "      <td>0.047215</td>\n",
              "      <td>-0.021130</td>\n",
              "      <td>-0.025005</td>\n",
              "      <td>-0.008210</td>\n",
              "      <td>-0.016571</td>\n",
              "      <td>-0.074725</td>\n",
              "      <td>0.028247</td>\n",
              "      <td>-0.024076</td>\n",
              "    </tr>\n",
              "    <tr>\n",
              "      <th>139658</th>\n",
              "      <td>-0.004914</td>\n",
              "      <td>-0.020960</td>\n",
              "      <td>0.040961</td>\n",
              "      <td>-0.027712</td>\n",
              "      <td>0.017017</td>\n",
              "      <td>0.049987</td>\n",
              "      <td>0.092078</td>\n",
              "      <td>0.002572</td>\n",
              "      <td>0.016596</td>\n",
              "      <td>-0.067592</td>\n",
              "      <td>...</td>\n",
              "      <td>-0.036900</td>\n",
              "      <td>-0.036450</td>\n",
              "      <td>-0.078411</td>\n",
              "      <td>0.034628</td>\n",
              "      <td>-0.061234</td>\n",
              "      <td>-0.007662</td>\n",
              "      <td>0.014682</td>\n",
              "      <td>-0.057440</td>\n",
              "      <td>0.052703</td>\n",
              "      <td>0.056332</td>\n",
              "    </tr>\n",
              "    <tr>\n",
              "      <th>139659</th>\n",
              "      <td>0.105465</td>\n",
              "      <td>0.017515</td>\n",
              "      <td>-0.012962</td>\n",
              "      <td>0.010675</td>\n",
              "      <td>-0.007861</td>\n",
              "      <td>0.067358</td>\n",
              "      <td>-0.004015</td>\n",
              "      <td>-0.043347</td>\n",
              "      <td>0.002382</td>\n",
              "      <td>0.021722</td>\n",
              "      <td>...</td>\n",
              "      <td>0.048130</td>\n",
              "      <td>-0.066217</td>\n",
              "      <td>-0.029552</td>\n",
              "      <td>0.001452</td>\n",
              "      <td>-0.049662</td>\n",
              "      <td>0.044276</td>\n",
              "      <td>-0.048217</td>\n",
              "      <td>-0.016620</td>\n",
              "      <td>0.061757</td>\n",
              "      <td>-0.088872</td>\n",
              "    </tr>\n",
              "    <tr>\n",
              "      <th>139660</th>\n",
              "      <td>0.038768</td>\n",
              "      <td>-0.006439</td>\n",
              "      <td>0.006322</td>\n",
              "      <td>0.073279</td>\n",
              "      <td>-0.003624</td>\n",
              "      <td>-0.050868</td>\n",
              "      <td>0.002106</td>\n",
              "      <td>-0.026045</td>\n",
              "      <td>0.026938</td>\n",
              "      <td>-0.095313</td>\n",
              "      <td>...</td>\n",
              "      <td>-0.029317</td>\n",
              "      <td>0.074843</td>\n",
              "      <td>0.020435</td>\n",
              "      <td>0.008710</td>\n",
              "      <td>-0.014511</td>\n",
              "      <td>-0.025964</td>\n",
              "      <td>-0.024715</td>\n",
              "      <td>-0.081599</td>\n",
              "      <td>-0.019751</td>\n",
              "      <td>-0.089518</td>\n",
              "    </tr>\n",
              "    <tr>\n",
              "      <th>139661</th>\n",
              "      <td>-0.007153</td>\n",
              "      <td>0.014537</td>\n",
              "      <td>-0.102376</td>\n",
              "      <td>0.021536</td>\n",
              "      <td>-0.086388</td>\n",
              "      <td>-0.027317</td>\n",
              "      <td>0.000771</td>\n",
              "      <td>0.050969</td>\n",
              "      <td>-0.012472</td>\n",
              "      <td>0.011699</td>\n",
              "      <td>...</td>\n",
              "      <td>-0.082736</td>\n",
              "      <td>0.040694</td>\n",
              "      <td>-0.057101</td>\n",
              "      <td>0.075470</td>\n",
              "      <td>0.029025</td>\n",
              "      <td>-0.002101</td>\n",
              "      <td>-0.060168</td>\n",
              "      <td>-0.079486</td>\n",
              "      <td>-0.050188</td>\n",
              "      <td>-0.010008</td>\n",
              "    </tr>\n",
              "  </tbody>\n",
              "</table>\n",
              "<p>139662 rows × 384 columns</p>\n",
              "</div>\n",
              "      <button class=\"colab-df-convert\" onclick=\"convertToInteractive('df-e0d6be32-69a8-454e-9b17-b8bc88a3cc0d')\"\n",
              "              title=\"Convert this dataframe to an interactive table.\"\n",
              "              style=\"display:none;\">\n",
              "        \n",
              "  <svg xmlns=\"http://www.w3.org/2000/svg\" height=\"24px\"viewBox=\"0 0 24 24\"\n",
              "       width=\"24px\">\n",
              "    <path d=\"M0 0h24v24H0V0z\" fill=\"none\"/>\n",
              "    <path d=\"M18.56 5.44l.94 2.06.94-2.06 2.06-.94-2.06-.94-.94-2.06-.94 2.06-2.06.94zm-11 1L8.5 8.5l.94-2.06 2.06-.94-2.06-.94L8.5 2.5l-.94 2.06-2.06.94zm10 10l.94 2.06.94-2.06 2.06-.94-2.06-.94-.94-2.06-.94 2.06-2.06.94z\"/><path d=\"M17.41 7.96l-1.37-1.37c-.4-.4-.92-.59-1.43-.59-.52 0-1.04.2-1.43.59L10.3 9.45l-7.72 7.72c-.78.78-.78 2.05 0 2.83L4 21.41c.39.39.9.59 1.41.59.51 0 1.02-.2 1.41-.59l7.78-7.78 2.81-2.81c.8-.78.8-2.07 0-2.86zM5.41 20L4 18.59l7.72-7.72 1.47 1.35L5.41 20z\"/>\n",
              "  </svg>\n",
              "      </button>\n",
              "      \n",
              "  <style>\n",
              "    .colab-df-container {\n",
              "      display:flex;\n",
              "      flex-wrap:wrap;\n",
              "      gap: 12px;\n",
              "    }\n",
              "\n",
              "    .colab-df-convert {\n",
              "      background-color: #E8F0FE;\n",
              "      border: none;\n",
              "      border-radius: 50%;\n",
              "      cursor: pointer;\n",
              "      display: none;\n",
              "      fill: #1967D2;\n",
              "      height: 32px;\n",
              "      padding: 0 0 0 0;\n",
              "      width: 32px;\n",
              "    }\n",
              "\n",
              "    .colab-df-convert:hover {\n",
              "      background-color: #E2EBFA;\n",
              "      box-shadow: 0px 1px 2px rgba(60, 64, 67, 0.3), 0px 1px 3px 1px rgba(60, 64, 67, 0.15);\n",
              "      fill: #174EA6;\n",
              "    }\n",
              "\n",
              "    [theme=dark] .colab-df-convert {\n",
              "      background-color: #3B4455;\n",
              "      fill: #D2E3FC;\n",
              "    }\n",
              "\n",
              "    [theme=dark] .colab-df-convert:hover {\n",
              "      background-color: #434B5C;\n",
              "      box-shadow: 0px 1px 3px 1px rgba(0, 0, 0, 0.15);\n",
              "      filter: drop-shadow(0px 1px 2px rgba(0, 0, 0, 0.3));\n",
              "      fill: #FFFFFF;\n",
              "    }\n",
              "  </style>\n",
              "\n",
              "      <script>\n",
              "        const buttonEl =\n",
              "          document.querySelector('#df-e0d6be32-69a8-454e-9b17-b8bc88a3cc0d button.colab-df-convert');\n",
              "        buttonEl.style.display =\n",
              "          google.colab.kernel.accessAllowed ? 'block' : 'none';\n",
              "\n",
              "        async function convertToInteractive(key) {\n",
              "          const element = document.querySelector('#df-e0d6be32-69a8-454e-9b17-b8bc88a3cc0d');\n",
              "          const dataTable =\n",
              "            await google.colab.kernel.invokeFunction('convertToInteractive',\n",
              "                                                     [key], {});\n",
              "          if (!dataTable) return;\n",
              "\n",
              "          const docLinkHtml = 'Like what you see? Visit the ' +\n",
              "            '<a target=\"_blank\" href=https://colab.research.google.com/notebooks/data_table.ipynb>data table notebook</a>'\n",
              "            + ' to learn more about interactive tables.';\n",
              "          element.innerHTML = '';\n",
              "          dataTable['output_type'] = 'display_data';\n",
              "          await google.colab.output.renderOutput(dataTable, element);\n",
              "          const docLink = document.createElement('div');\n",
              "          docLink.innerHTML = docLinkHtml;\n",
              "          element.appendChild(docLink);\n",
              "        }\n",
              "      </script>\n",
              "    </div>\n",
              "  </div>\n",
              "  "
            ]
          },
          "metadata": {},
          "execution_count": 13
        }
      ]
    },
    {
      "cell_type": "code",
      "source": [
        "y = allnews['real']\n",
        "y"
      ],
      "metadata": {
        "colab": {
          "base_uri": "https://localhost:8080/"
        },
        "id": "1FxIwgCOAluw",
        "outputId": "c45c9ef2-e522-4337-bf33-9dad7bf79551"
      },
      "execution_count": null,
      "outputs": [
        {
          "output_type": "execute_result",
          "data": {
            "text/plain": [
              "0         1\n",
              "1         1\n",
              "2         1\n",
              "3         1\n",
              "4         1\n",
              "         ..\n",
              "139657    1\n",
              "139658    1\n",
              "139659    1\n",
              "139660    1\n",
              "139661    1\n",
              "Name: real, Length: 139662, dtype: int64"
            ]
          },
          "metadata": {},
          "execution_count": 14
        }
      ]
    },
    {
      "cell_type": "markdown",
      "source": [
        "# Prediction using Logistic Regression optimized by Optuna"
      ],
      "metadata": {
        "id": "ud4Hz_aVYQ2Y"
      }
    },
    {
      "cell_type": "code",
      "source": [
        "def train_val_test_split(X, y, threshold):\n",
        "  df = pd.concat([y, X], axis=1)\n",
        "\n",
        "  df_test = df.sample(frac=threshold, random_state=42)\n",
        "  \n",
        "  df_train_val = df.drop(df_test.index)\n",
        "  df_val = df_train_val.sample(frac=threshold, random_state=42)\n",
        "  \n",
        "  df_train = df_train_val.drop(df_val.index)\n",
        "  \n",
        "  y_test = df_test.iloc[:,0]\n",
        "  X_test = df_test.iloc[:,1:]\n",
        "\n",
        "  y_val = df_val.iloc[:,0]\n",
        "  X_val = df_val.iloc[:,1:]\n",
        "\n",
        "  y_train = df_train.iloc[:,0]\n",
        "  X_train = df_train.iloc[:,1:]\n",
        "\n",
        "  return (X_train, y_train), (X_val, y_val), (X_test, y_test)"
      ],
      "metadata": {
        "id": "Ak6mkTR29K6A"
      },
      "execution_count": null,
      "outputs": []
    },
    {
      "cell_type": "code",
      "source": [
        "def describe_dataset(title, df):\n",
        "  string1 = f\"{title}: X length: {len(df[0])}, \"\n",
        "  string2 = f\"X width: {len(df[0].columns)}, \"\n",
        "  string3 = f\"y length: {len(df[1])}, \"\n",
        "  string4 = f\"value count {df[1].value_counts(normalize=True).index[0]}: {round(df[1].value_counts(normalize=True)[0],2)}, \"\n",
        "  string5 = f\"value count {df[1].value_counts(normalize=True).index[1]}: {round(df[1].value_counts(normalize=True)[1],2)}\"\n",
        "  print(string1 + string2 + string3 + string4 + string5)"
      ],
      "metadata": {
        "id": "6aF7Eou99PxA"
      },
      "execution_count": null,
      "outputs": []
    },
    {
      "cell_type": "code",
      "source": [
        "train, val, test = train_val_test_split(X, y, 0.2)\n",
        "describe_dataset('TRAIN', train)\n",
        "describe_dataset('VALID', val)\n",
        "describe_dataset('TEST ', test)"
      ],
      "metadata": {
        "colab": {
          "base_uri": "https://localhost:8080/"
        },
        "id": "-QQS4usq9Upw",
        "outputId": "be01ade6-573e-486a-e09b-650ccc78a372"
      },
      "execution_count": null,
      "outputs": [
        {
          "output_type": "stream",
          "name": "stdout",
          "text": [
            "TRAIN: X length: 89384, X width: 384, y length: 89384, value count 1: 0.46, value count 0: 0.54\n",
            "VALID: X length: 22346, X width: 384, y length: 22346, value count 1: 0.46, value count 0: 0.54\n",
            "TEST : X length: 27932, X width: 384, y length: 27932, value count 1: 0.45, value count 0: 0.55\n"
          ]
        }
      ]
    },
    {
      "cell_type": "code",
      "source": [
        "!pip install optuna"
      ],
      "metadata": {
        "id": "y4WFhTyb-3JA"
      },
      "execution_count": null,
      "outputs": []
    },
    {
      "cell_type": "code",
      "source": [
        "import optuna"
      ],
      "metadata": {
        "id": "4_Aku2rD-5Wf"
      },
      "execution_count": null,
      "outputs": []
    },
    {
      "cell_type": "code",
      "source": [
        "import warnings\n",
        "warnings.filterwarnings(\"ignore\")"
      ],
      "metadata": {
        "id": "k-ORtngE7ytI"
      },
      "execution_count": null,
      "outputs": []
    },
    {
      "cell_type": "code",
      "source": [
        "from sklearn.linear_model import LogisticRegression\n",
        "from sklearn.metrics import f1_score\n",
        "from sklearn.metrics import recall_score\n",
        "from sklearn.metrics import precision_score\n",
        "from sklearn.metrics import confusion_matrix\n",
        "from sklearn.metrics import ConfusionMatrixDisplay\n",
        "import matplotlib.pyplot as plt"
      ],
      "metadata": {
        "id": "u2qs55ok8Dzx"
      },
      "execution_count": null,
      "outputs": []
    },
    {
      "cell_type": "code",
      "source": [
        "def best_parameters(study):\n",
        "  print(\"\\n==============================================\")\n",
        "  print(f\"Number of finished trials: {len(study.trials)}\")\n",
        "  print('Best trial:')\n",
        "  trial = study.best_trial\n",
        "  print(f\"Value: {trial.value}\")\n",
        "  print('  Params: ')\n",
        "  for key, value in trial.params.items():\n",
        "    print(f\"    {key}: {value}\")\n",
        "  print(\"==============================================\")\n",
        "  return trial.params"
      ],
      "metadata": {
        "id": "LtIL4g1x-HKw"
      },
      "execution_count": null,
      "outputs": []
    },
    {
      "cell_type": "code",
      "source": [
        "def model_optimization(trials, objective):\n",
        "  study = optuna.create_study(direction='maximize')  \n",
        "  study.optimize(objective, n_trials=trials)\n",
        "  params = best_parameters(study)\n",
        "  return params"
      ],
      "metadata": {
        "id": "VoiITVKt92po"
      },
      "execution_count": null,
      "outputs": []
    },
    {
      "cell_type": "code",
      "source": [
        "def objective(trial):\n",
        "\n",
        "  logreg_c = trial.suggest_float('logreg_c', 1e-10, 1e10, log=True)\n",
        "\n",
        "  optuna_model = LogisticRegression(C=logreg_c)\n",
        "  optuna_model.fit(train[0], train[1])\n",
        "\n",
        "  pred = optuna_model.predict(val[0])\n",
        "  f1 = f1_score(val[1], pred)\n",
        "\n",
        "  return f1"
      ],
      "metadata": {
        "id": "ivA4Q2BG8jjg"
      },
      "execution_count": null,
      "outputs": []
    },
    {
      "cell_type": "code",
      "source": [
        "def predict_test_news(model, test):\n",
        "  model.fit(train[0], train[1])\n",
        "  prediction = model.predict(test[0])\n",
        "\n",
        "  print(f\"\\nPrecision: {precision_score(test[1], prediction):.2f}\")\n",
        "  print(f\"Recall:    {recall_score(test[1], prediction):.2f}\")\n",
        "  print(f'F1:        {f1_score(test[1], prediction):.2f}\\n')\n",
        "  \n",
        "  cm = confusion_matrix(test[1], prediction)\n",
        "  cm_display = ConfusionMatrixDisplay(confusion_matrix = cm, display_labels = [\"FAKE\", \"REAL\"])\n",
        "  cm_display.plot()\n",
        "  plt.show()"
      ],
      "metadata": {
        "id": "uEc6Rh57_xaA"
      },
      "execution_count": null,
      "outputs": []
    },
    {
      "cell_type": "code",
      "source": [
        "params = model_optimization(100, objective)"
      ],
      "metadata": {
        "colab": {
          "base_uri": "https://localhost:8080/"
        },
        "id": "l7KEjyvi_K7N",
        "outputId": "5d154a30-a93f-45bf-c900-4c1318608087"
      },
      "execution_count": null,
      "outputs": [
        {
          "output_type": "stream",
          "name": "stderr",
          "text": [
            "\u001b[32m[I 2023-05-21 20:38:29,347]\u001b[0m A new study created in memory with name: no-name-93dc88f3-6796-48ac-bd98-e05adac85adf\u001b[0m\n",
            "\u001b[32m[I 2023-05-21 20:38:39,490]\u001b[0m Trial 0 finished with value: 0.6479661214499397 and parameters: {'logreg_c': 720959323.7332762}. Best is trial 0 with value: 0.6479661214499397.\u001b[0m\n",
            "\u001b[32m[I 2023-05-21 20:38:50,799]\u001b[0m Trial 1 finished with value: 0.6491051367475014 and parameters: {'logreg_c': 1.55136658185049}. Best is trial 1 with value: 0.6491051367475014.\u001b[0m\n",
            "\u001b[32m[I 2023-05-21 20:38:57,309]\u001b[0m Trial 2 finished with value: 0.648482729144811 and parameters: {'logreg_c': 31.057110537560426}. Best is trial 1 with value: 0.6491051367475014.\u001b[0m\n",
            "\u001b[32m[I 2023-05-21 20:39:04,409]\u001b[0m Trial 3 finished with value: 0.6488039763901834 and parameters: {'logreg_c': 305.96196128358247}. Best is trial 1 with value: 0.6491051367475014.\u001b[0m\n",
            "\u001b[32m[I 2023-05-21 20:39:05,449]\u001b[0m Trial 4 finished with value: 0.7019459773453384 and parameters: {'logreg_c': 4.610037620438985e-06}. Best is trial 4 with value: 0.7019459773453384.\u001b[0m\n",
            "\u001b[32m[I 2023-05-21 20:39:11,807]\u001b[0m Trial 5 finished with value: 0.648417782954766 and parameters: {'logreg_c': 11491.335414794205}. Best is trial 4 with value: 0.7019459773453384.\u001b[0m\n",
            "\u001b[32m[I 2023-05-21 20:39:12,562]\u001b[0m Trial 6 finished with value: 0.7019459773453384 and parameters: {'logreg_c': 1.1445329167914322e-06}. Best is trial 4 with value: 0.7019459773453384.\u001b[0m\n",
            "\u001b[32m[I 2023-05-21 20:39:19,484]\u001b[0m Trial 7 finished with value: 0.6486024844720497 and parameters: {'logreg_c': 2331.892552473902}. Best is trial 4 with value: 0.7019459773453384.\u001b[0m\n",
            "\u001b[32m[I 2023-05-21 20:39:20,771]\u001b[0m Trial 8 finished with value: 0.7019459773453384 and parameters: {'logreg_c': 1.2790949241590256e-08}. Best is trial 4 with value: 0.7019459773453384.\u001b[0m\n",
            "\u001b[32m[I 2023-05-21 20:39:29,060]\u001b[0m Trial 9 finished with value: 0.6485898531582628 and parameters: {'logreg_c': 62768031.05930994}. Best is trial 4 with value: 0.7019459773453384.\u001b[0m\n",
            "\u001b[32m[I 2023-05-21 20:39:29,931]\u001b[0m Trial 10 finished with value: 0.7019459773453384 and parameters: {'logreg_c': 0.00022614105140258777}. Best is trial 4 with value: 0.7019459773453384.\u001b[0m\n",
            "\u001b[32m[I 2023-05-21 20:39:30,844]\u001b[0m Trial 11 finished with value: 0.7019459773453384 and parameters: {'logreg_c': 7.371685189407561e-06}. Best is trial 4 with value: 0.7019459773453384.\u001b[0m\n",
            "\u001b[32m[I 2023-05-21 20:39:32,324]\u001b[0m Trial 12 finished with value: 0.7019459773453384 and parameters: {'logreg_c': 9.541919058308563e-10}. Best is trial 4 with value: 0.7019459773453384.\u001b[0m\n",
            "\u001b[32m[I 2023-05-21 20:39:33,585]\u001b[0m Trial 13 finished with value: 0.7037846342102964 and parameters: {'logreg_c': 0.00035069589398344477}. Best is trial 13 with value: 0.7037846342102964.\u001b[0m\n",
            "\u001b[32m[I 2023-05-21 20:39:34,803]\u001b[0m Trial 14 finished with value: 0.6829369469026548 and parameters: {'logreg_c': 0.0023515255636177646}. Best is trial 13 with value: 0.7037846342102964.\u001b[0m\n",
            "\u001b[32m[I 2023-05-21 20:39:38,323]\u001b[0m Trial 15 finished with value: 0.6548733427578038 and parameters: {'logreg_c': 0.06768083565185366}. Best is trial 13 with value: 0.7037846342102964.\u001b[0m\n",
            "\u001b[32m[I 2023-05-21 20:39:39,688]\u001b[0m Trial 16 finished with value: 0.7019459773453384 and parameters: {'logreg_c': 3.315941194502242e-07}. Best is trial 13 with value: 0.7037846342102964.\u001b[0m\n",
            "\u001b[32m[I 2023-05-21 20:39:42,122]\u001b[0m Trial 17 finished with value: 0.7019459773453384 and parameters: {'logreg_c': 5.071020201786278e-10}. Best is trial 13 with value: 0.7037846342102964.\u001b[0m\n",
            "\u001b[32m[I 2023-05-21 20:39:43,813]\u001b[0m Trial 18 finished with value: 0.7019459773453384 and parameters: {'logreg_c': 0.0001649427340268351}. Best is trial 13 with value: 0.7037846342102964.\u001b[0m\n",
            "\u001b[32m[I 2023-05-21 20:39:45,850]\u001b[0m Trial 19 finished with value: 0.66480117820324 and parameters: {'logreg_c': 0.007436982489774932}. Best is trial 13 with value: 0.7037846342102964.\u001b[0m\n",
            "\u001b[32m[I 2023-05-21 20:39:46,929]\u001b[0m Trial 20 finished with value: 0.7019459773453384 and parameters: {'logreg_c': 1.7117426791777587e-05}. Best is trial 13 with value: 0.7037846342102964.\u001b[0m\n",
            "\u001b[32m[I 2023-05-21 20:39:48,300]\u001b[0m Trial 21 finished with value: 0.7019459773453384 and parameters: {'logreg_c': 3.4898414880314087e-07}. Best is trial 13 with value: 0.7037846342102964.\u001b[0m\n",
            "\u001b[32m[I 2023-05-21 20:39:49,766]\u001b[0m Trial 22 finished with value: 0.7019459773453384 and parameters: {'logreg_c': 2.6757530304726325e-07}. Best is trial 13 with value: 0.7037846342102964.\u001b[0m\n",
            "\u001b[32m[I 2023-05-21 20:39:52,407]\u001b[0m Trial 23 finished with value: 0.7019459773453384 and parameters: {'logreg_c': 8.308937474291436e-06}. Best is trial 13 with value: 0.7037846342102964.\u001b[0m\n",
            "\u001b[32m[I 2023-05-21 20:39:56,405]\u001b[0m Trial 24 finished with value: 0.6561832061068703 and parameters: {'logreg_c': 0.056206579778835565}. Best is trial 13 with value: 0.7037846342102964.\u001b[0m\n",
            "\u001b[32m[I 2023-05-21 20:39:57,444]\u001b[0m Trial 25 finished with value: 0.7019459773453384 and parameters: {'logreg_c': 1.545927872873248e-10}. Best is trial 13 with value: 0.7037846342102964.\u001b[0m\n",
            "\u001b[32m[I 2023-05-21 20:39:58,139]\u001b[0m Trial 26 finished with value: 0.7083652655780227 and parameters: {'logreg_c': 0.0005086936719369533}. Best is trial 26 with value: 0.7083652655780227.\u001b[0m\n",
            "\u001b[32m[I 2023-05-21 20:39:58,941]\u001b[0m Trial 27 finished with value: 0.7086711260442033 and parameters: {'logreg_c': 0.0008466353609611831}. Best is trial 27 with value: 0.7086711260442033.\u001b[0m\n",
            "\u001b[32m[I 2023-05-21 20:39:59,785]\u001b[0m Trial 28 finished with value: 0.6888295173999798 and parameters: {'logreg_c': 0.0018485183523406375}. Best is trial 27 with value: 0.7086711260442033.\u001b[0m\n",
            "\u001b[32m[I 2023-05-21 20:40:11,003]\u001b[0m Trial 29 finished with value: 0.651617641374512 and parameters: {'logreg_c': 0.5931353809409607}. Best is trial 27 with value: 0.7086711260442033.\u001b[0m\n",
            "\u001b[32m[I 2023-05-21 20:40:12,080]\u001b[0m Trial 30 finished with value: 0.7019459773453384 and parameters: {'logreg_c': 0.0001631074817170412}. Best is trial 27 with value: 0.7086711260442033.\u001b[0m\n",
            "\u001b[32m[I 2023-05-21 20:40:12,850]\u001b[0m Trial 31 finished with value: 0.7019459773453384 and parameters: {'logreg_c': 5.2860216777106525e-05}. Best is trial 27 with value: 0.7086711260442033.\u001b[0m\n",
            "\u001b[32m[I 2023-05-21 20:40:13,698]\u001b[0m Trial 32 finished with value: 0.6959212562135827 and parameters: {'logreg_c': 0.001439250426246991}. Best is trial 27 with value: 0.7086711260442033.\u001b[0m\n",
            "\u001b[32m[I 2023-05-21 20:40:15,473]\u001b[0m Trial 33 finished with value: 0.6578977208300261 and parameters: {'logreg_c': 0.024431053182588612}. Best is trial 27 with value: 0.7086711260442033.\u001b[0m\n",
            "\u001b[32m[I 2023-05-21 20:40:17,060]\u001b[0m Trial 34 finished with value: 0.7019459773453384 and parameters: {'logreg_c': 3.1917762768091884e-08}. Best is trial 27 with value: 0.7086711260442033.\u001b[0m\n",
            "\u001b[32m[I 2023-05-21 20:40:24,459]\u001b[0m Trial 35 finished with value: 0.6489023349623769 and parameters: {'logreg_c': 2.1734893957274117}. Best is trial 27 with value: 0.7086711260442033.\u001b[0m\n",
            "\u001b[32m[I 2023-05-21 20:40:26,489]\u001b[0m Trial 36 finished with value: 0.7019459773453384 and parameters: {'logreg_c': 3.5782949933077203e-06}. Best is trial 27 with value: 0.7086711260442033.\u001b[0m\n",
            "\u001b[32m[I 2023-05-21 20:40:27,790]\u001b[0m Trial 37 finished with value: 0.7040135241481827 and parameters: {'logreg_c': 0.00035954062946868176}. Best is trial 27 with value: 0.7086711260442033.\u001b[0m\n",
            "\u001b[32m[I 2023-05-21 20:40:29,154]\u001b[0m Trial 38 finished with value: 0.7092572308238846 and parameters: {'logreg_c': 0.0005526692671377365}. Best is trial 38 with value: 0.7092572308238846.\u001b[0m\n",
            "\u001b[32m[I 2023-05-21 20:40:36,039]\u001b[0m Trial 39 finished with value: 0.6521152288766341 and parameters: {'logreg_c': 0.42326449190947385}. Best is trial 38 with value: 0.7092572308238846.\u001b[0m\n",
            "\u001b[32m[I 2023-05-21 20:40:43,019]\u001b[0m Trial 40 finished with value: 0.6486822186857121 and parameters: {'logreg_c': 17.40319703452178}. Best is trial 38 with value: 0.7092572308238846.\u001b[0m\n",
            "\u001b[32m[I 2023-05-21 20:40:44,094]\u001b[0m Trial 41 finished with value: 0.710253043685844 and parameters: {'logreg_c': 0.0006260770067534499}. Best is trial 41 with value: 0.710253043685844.\u001b[0m\n",
            "\u001b[32m[I 2023-05-21 20:40:45,515]\u001b[0m Trial 42 finished with value: 0.6721264160473339 and parameters: {'logreg_c': 0.004571975109356649}. Best is trial 41 with value: 0.710253043685844.\u001b[0m\n",
            "\u001b[32m[I 2023-05-21 20:40:46,273]\u001b[0m Trial 43 finished with value: 0.7019459773453384 and parameters: {'logreg_c': 7.431052489975522e-05}. Best is trial 41 with value: 0.710253043685844.\u001b[0m\n",
            "\u001b[32m[I 2023-05-21 20:40:46,961]\u001b[0m Trial 44 finished with value: 0.709156512480776 and parameters: {'logreg_c': 0.0005433949131058809}. Best is trial 41 with value: 0.710253043685844.\u001b[0m\n",
            "\u001b[32m[I 2023-05-21 20:40:48,401]\u001b[0m Trial 45 finished with value: 0.6582649913475284 and parameters: {'logreg_c': 0.018030373143615896}. Best is trial 41 with value: 0.710253043685844.\u001b[0m\n",
            "\u001b[32m[I 2023-05-21 20:40:49,083]\u001b[0m Trial 46 finished with value: 0.7019459773453384 and parameters: {'logreg_c': 2.1367704777570526e-05}. Best is trial 41 with value: 0.710253043685844.\u001b[0m\n",
            "\u001b[32m[I 2023-05-21 20:40:49,771]\u001b[0m Trial 47 finished with value: 0.7091694784822116 and parameters: {'logreg_c': 0.0005512189847656155}. Best is trial 41 with value: 0.710253043685844.\u001b[0m\n",
            "\u001b[32m[I 2023-05-21 20:40:53,392]\u001b[0m Trial 48 finished with value: 0.6537766673073226 and parameters: {'logreg_c': 0.16182290112367564}. Best is trial 41 with value: 0.710253043685844.\u001b[0m\n",
            "\u001b[32m[I 2023-05-21 20:40:54,438]\u001b[0m Trial 49 finished with value: 0.6681028187527386 and parameters: {'logreg_c': 0.006003132202896095}. Best is trial 41 with value: 0.710253043685844.\u001b[0m\n",
            "\u001b[32m[I 2023-05-21 20:40:55,126]\u001b[0m Trial 50 finished with value: 0.7019459773453384 and parameters: {'logreg_c': 3.529568623960063e-06}. Best is trial 41 with value: 0.710253043685844.\u001b[0m\n",
            "\u001b[32m[I 2023-05-21 20:40:55,980]\u001b[0m Trial 51 finished with value: 0.7059302653425645 and parameters: {'logreg_c': 0.0009600435111882259}. Best is trial 41 with value: 0.710253043685844.\u001b[0m\n",
            "\u001b[32m[I 2023-05-21 20:40:57,032]\u001b[0m Trial 52 finished with value: 0.7019459773453384 and parameters: {'logreg_c': 4.9909730163902186e-05}. Best is trial 41 with value: 0.710253043685844.\u001b[0m\n",
            "\u001b[32m[I 2023-05-21 20:40:58,041]\u001b[0m Trial 53 finished with value: 0.709156512480776 and parameters: {'logreg_c': 0.0005433584389731808}. Best is trial 41 with value: 0.710253043685844.\u001b[0m\n",
            "\u001b[32m[I 2023-05-21 20:41:00,215]\u001b[0m Trial 54 finished with value: 0.6584117425668046 and parameters: {'logreg_c': 0.018675358023142068}. Best is trial 41 with value: 0.710253043685844.\u001b[0m\n",
            "\u001b[32m[I 2023-05-21 20:41:01,477]\u001b[0m Trial 55 finished with value: 0.7077209880379058 and parameters: {'logreg_c': 0.0009017252222745855}. Best is trial 41 with value: 0.710253043685844.\u001b[0m\n",
            "\u001b[32m[I 2023-05-21 20:41:04,128]\u001b[0m Trial 56 finished with value: 0.6547664551639784 and parameters: {'logreg_c': 0.07009484814880755}. Best is trial 41 with value: 0.710253043685844.\u001b[0m\n",
            "\u001b[32m[I 2023-05-21 20:41:04,782]\u001b[0m Trial 57 finished with value: 0.7019459773453384 and parameters: {'logreg_c': 4.635933029090117e-05}. Best is trial 41 with value: 0.710253043685844.\u001b[0m\n",
            "\u001b[32m[I 2023-05-21 20:41:05,821]\u001b[0m Trial 58 finished with value: 0.6664467656221367 and parameters: {'logreg_c': 0.006441660288128611}. Best is trial 41 with value: 0.710253043685844.\u001b[0m\n",
            "\u001b[32m[I 2023-05-21 20:41:06,825]\u001b[0m Trial 59 finished with value: 0.7019459773453384 and parameters: {'logreg_c': 1.847120047003988e-06}. Best is trial 41 with value: 0.710253043685844.\u001b[0m\n",
            "\u001b[32m[I 2023-05-21 20:41:08,132]\u001b[0m Trial 60 finished with value: 0.7019459773453384 and parameters: {'logreg_c': 0.0002047271264440507}. Best is trial 41 with value: 0.710253043685844.\u001b[0m\n",
            "\u001b[32m[I 2023-05-21 20:41:09,174]\u001b[0m Trial 61 finished with value: 0.7035969127712247 and parameters: {'logreg_c': 0.0003440144135766888}. Best is trial 41 with value: 0.710253043685844.\u001b[0m\n",
            "\u001b[32m[I 2023-05-21 20:41:09,855]\u001b[0m Trial 62 finished with value: 0.7019459773453384 and parameters: {'logreg_c': 1.676584843051245e-05}. Best is trial 41 with value: 0.710253043685844.\u001b[0m\n",
            "\u001b[32m[I 2023-05-21 20:41:10,707]\u001b[0m Trial 63 finished with value: 0.6869813630798531 and parameters: {'logreg_c': 0.001963414568713507}. Best is trial 41 with value: 0.710253043685844.\u001b[0m\n",
            "\u001b[32m[I 2023-05-21 20:41:11,413]\u001b[0m Trial 64 finished with value: 0.7019459773453384 and parameters: {'logreg_c': 1.093272460198617e-05}. Best is trial 41 with value: 0.710253043685844.\u001b[0m\n",
            "\u001b[32m[I 2023-05-21 20:41:12,144]\u001b[0m Trial 65 finished with value: 0.7093674939951963 and parameters: {'logreg_c': 0.0005669476854893549}. Best is trial 41 with value: 0.710253043685844.\u001b[0m\n",
            "\u001b[32m[I 2023-05-21 20:41:13,411]\u001b[0m Trial 66 finished with value: 0.6801049868766403 and parameters: {'logreg_c': 0.0027863621353372958}. Best is trial 41 with value: 0.710253043685844.\u001b[0m\n",
            "\u001b[32m[I 2023-05-21 20:41:14,465]\u001b[0m Trial 67 finished with value: 0.7019459773453384 and parameters: {'logreg_c': 1.248244434368287e-06}. Best is trial 41 with value: 0.710253043685844.\u001b[0m\n",
            "\u001b[32m[I 2023-05-21 20:41:15,386]\u001b[0m Trial 68 finished with value: 0.7019459773453384 and parameters: {'logreg_c': 6.26567195595456e-05}. Best is trial 41 with value: 0.710253043685844.\u001b[0m\n",
            "\u001b[32m[I 2023-05-21 20:41:17,908]\u001b[0m Trial 69 finished with value: 0.6577633171912833 and parameters: {'logreg_c': 0.02565793849049684}. Best is trial 41 with value: 0.710253043685844.\u001b[0m\n",
            "\u001b[32m[I 2023-05-21 20:41:18,703]\u001b[0m Trial 70 finished with value: 0.7044241593513955 and parameters: {'logreg_c': 0.0003703990680053322}. Best is trial 41 with value: 0.710253043685844.\u001b[0m\n",
            "\u001b[32m[I 2023-05-21 20:41:19,515]\u001b[0m Trial 71 finished with value: 0.7100328105716264 and parameters: {'logreg_c': 0.0006884170536362401}. Best is trial 41 with value: 0.710253043685844.\u001b[0m\n",
            "\u001b[32m[I 2023-05-21 20:41:20,333]\u001b[0m Trial 72 finished with value: 0.7064555420219245 and parameters: {'logreg_c': 0.0009349234541546136}. Best is trial 41 with value: 0.710253043685844.\u001b[0m\n",
            "\u001b[32m[I 2023-05-21 20:41:21,050]\u001b[0m Trial 73 finished with value: 0.7019459773453384 and parameters: {'logreg_c': 0.00017098493008065383}. Best is trial 41 with value: 0.710253043685844.\u001b[0m\n",
            "\u001b[32m[I 2023-05-21 20:41:22,378]\u001b[0m Trial 74 finished with value: 0.6628169535443272 and parameters: {'logreg_c': 0.008977511850354248}. Best is trial 41 with value: 0.710253043685844.\u001b[0m\n",
            "\u001b[32m[I 2023-05-21 20:41:25,353]\u001b[0m Trial 75 finished with value: 0.6528811478554439 and parameters: {'logreg_c': 0.10588968408769872}. Best is trial 41 with value: 0.710253043685844.\u001b[0m\n",
            "\u001b[32m[I 2023-05-21 20:41:26,045]\u001b[0m Trial 76 finished with value: 0.7019459773453384 and parameters: {'logreg_c': 7.908767325769862e-06}. Best is trial 41 with value: 0.710253043685844.\u001b[0m\n",
            "\u001b[32m[I 2023-05-21 20:41:26,850]\u001b[0m Trial 77 finished with value: 0.7012202954399486 and parameters: {'logreg_c': 0.0011696009688297317}. Best is trial 41 with value: 0.710253043685844.\u001b[0m\n",
            "\u001b[32m[I 2023-05-21 20:41:28,361]\u001b[0m Trial 78 finished with value: 0.6682239579531353 and parameters: {'logreg_c': 0.00594752378143955}. Best is trial 41 with value: 0.710253043685844.\u001b[0m\n",
            "\u001b[32m[I 2023-05-21 20:41:29,393]\u001b[0m Trial 79 finished with value: 0.7019459773453384 and parameters: {'logreg_c': 0.00011656693805316633}. Best is trial 41 with value: 0.710253043685844.\u001b[0m\n",
            "\u001b[32m[I 2023-05-21 20:41:30,418]\u001b[0m Trial 80 finished with value: 0.7019459773453384 and parameters: {'logreg_c': 3.9176827101475436e-05}. Best is trial 41 with value: 0.710253043685844.\u001b[0m\n",
            "\u001b[32m[I 2023-05-21 20:41:31,398]\u001b[0m Trial 81 finished with value: 0.7095337095337095 and parameters: {'logreg_c': 0.0005825629810795}. Best is trial 41 with value: 0.710253043685844.\u001b[0m\n",
            "\u001b[32m[I 2023-05-21 20:41:32,483]\u001b[0m Trial 82 finished with value: 0.7068035190615836 and parameters: {'logreg_c': 0.0004485356962437485}. Best is trial 41 with value: 0.710253043685844.\u001b[0m\n",
            "\u001b[32m[I 2023-05-21 20:41:33,835]\u001b[0m Trial 83 finished with value: 0.6810365874925883 and parameters: {'logreg_c': 0.002652789447079596}. Best is trial 41 with value: 0.710253043685844.\u001b[0m\n",
            "\u001b[32m[I 2023-05-21 20:41:34,696]\u001b[0m Trial 84 finished with value: 0.7019459773453384 and parameters: {'logreg_c': 0.0001233338119988239}. Best is trial 41 with value: 0.710253043685844.\u001b[0m\n",
            "\u001b[32m[I 2023-05-21 20:41:35,358]\u001b[0m Trial 85 finished with value: 0.7019459773453384 and parameters: {'logreg_c': 1.9369516887502323e-05}. Best is trial 41 with value: 0.710253043685844.\u001b[0m\n",
            "\u001b[32m[I 2023-05-21 20:41:37,018]\u001b[0m Trial 86 finished with value: 0.6579454799803396 and parameters: {'logreg_c': 0.024641914235334378}. Best is trial 41 with value: 0.710253043685844.\u001b[0m\n",
            "\u001b[32m[I 2023-05-21 20:41:37,821]\u001b[0m Trial 87 finished with value: 0.7105152911604523 and parameters: {'logreg_c': 0.0006468967771678505}. Best is trial 87 with value: 0.7105152911604523.\u001b[0m\n",
            "\u001b[32m[I 2023-05-21 20:41:38,770]\u001b[0m Trial 88 finished with value: 0.6776701774227752 and parameters: {'logreg_c': 0.0032029823285605}. Best is trial 87 with value: 0.7105152911604523.\u001b[0m\n",
            "\u001b[32m[I 2023-05-21 20:41:39,473]\u001b[0m Trial 89 finished with value: 0.7091737150292777 and parameters: {'logreg_c': 0.0005428186164399514}. Best is trial 87 with value: 0.7105152911604523.\u001b[0m\n",
            "\u001b[32m[I 2023-05-21 20:41:40,201]\u001b[0m Trial 90 finished with value: 0.7019459773453384 and parameters: {'logreg_c': 4.222665061390154e-06}. Best is trial 87 with value: 0.7105152911604523.\u001b[0m\n",
            "\u001b[32m[I 2023-05-21 20:41:40,889]\u001b[0m Trial 91 finished with value: 0.7019459773453384 and parameters: {'logreg_c': 0.00022514145682296115}. Best is trial 87 with value: 0.7105152911604523.\u001b[0m\n",
            "\u001b[32m[I 2023-05-21 20:41:41,586]\u001b[0m Trial 92 finished with value: 0.710287081339713 and parameters: {'logreg_c': 0.0006415736891041783}. Best is trial 87 with value: 0.7105152911604523.\u001b[0m\n",
            "\u001b[32m[I 2023-05-21 20:41:42,445]\u001b[0m Trial 93 finished with value: 0.6987315355267878 and parameters: {'logreg_c': 0.001322821275375854}. Best is trial 87 with value: 0.7105152911604523.\u001b[0m\n",
            "\u001b[32m[I 2023-05-21 20:41:43,108]\u001b[0m Trial 94 finished with value: 0.7019459773453384 and parameters: {'logreg_c': 3.0050650289276236e-05}. Best is trial 87 with value: 0.7105152911604523.\u001b[0m\n",
            "\u001b[32m[I 2023-05-21 20:41:43,803]\u001b[0m Trial 95 finished with value: 0.7019459773453384 and parameters: {'logreg_c': 0.0001101562312449179}. Best is trial 87 with value: 0.7105152911604523.\u001b[0m\n",
            "\u001b[32m[I 2023-05-21 20:41:45,468]\u001b[0m Trial 96 finished with value: 0.6629903774981495 and parameters: {'logreg_c': 0.008913120369192605}. Best is trial 87 with value: 0.7105152911604523.\u001b[0m\n",
            "\u001b[32m[I 2023-05-21 20:41:46,379]\u001b[0m Trial 97 finished with value: 0.7100753941055518 and parameters: {'logreg_c': 0.0006120603446335271}. Best is trial 87 with value: 0.7105152911604523.\u001b[0m\n",
            "\u001b[32m[I 2023-05-21 20:41:49,610]\u001b[0m Trial 98 finished with value: 0.6567312090257662 and parameters: {'logreg_c': 0.041853137110173626}. Best is trial 87 with value: 0.7105152911604523.\u001b[0m\n",
            "\u001b[32m[I 2023-05-21 20:41:51,403]\u001b[0m Trial 99 finished with value: 0.6597845601436265 and parameters: {'logreg_c': 0.01355664294268314}. Best is trial 87 with value: 0.7105152911604523.\u001b[0m\n"
          ]
        },
        {
          "output_type": "stream",
          "name": "stdout",
          "text": [
            "\n",
            "==============================================\n",
            "Number of finished trials: 100\n",
            "Best trial:\n",
            "Value: 0.7105152911604523\n",
            "  Params: \n",
            "    logreg_c: 0.0006468967771678505\n",
            "==============================================\n"
          ]
        }
      ]
    },
    {
      "cell_type": "code",
      "source": [
        "model_logreg = LogisticRegression(C=params['logreg_c'])\n",
        "predict_test_news(model_logreg, test)"
      ],
      "metadata": {
        "colab": {
          "base_uri": "https://localhost:8080/",
          "height": 536
        },
        "id": "FRu-c1_R_Nc1",
        "outputId": "9f136c3f-7fd7-4435-d732-aa23b48ad8c0"
      },
      "execution_count": null,
      "outputs": [
        {
          "output_type": "stream",
          "name": "stdout",
          "text": [
            "\n",
            "Precision: 0.56\n",
            "Recall:    0.98\n",
            "F1:        0.72\n",
            "\n"
          ]
        },
        {
          "output_type": "display_data",
          "data": {
            "text/plain": [
              "<Figure size 640x480 with 2 Axes>"
            ],
            "image/png": "[encoded data removed]"
          },
          "metadata": {}
        }
      ]
    },
    {
      "cell_type": "markdown",
      "source": [
        "# Searching for the best threshold "
      ],
      "metadata": {
        "id": "Ik3k_mazZCuQ"
      }
    },
    {
      "cell_type": "code",
      "source": [
        "from keras.metrics import Precision\n",
        "from keras.metrics import Recall"
      ],
      "metadata": {
        "id": "P3N73QKCDfKR"
      },
      "execution_count": null,
      "outputs": []
    },
    {
      "cell_type": "code",
      "source": [
        "def get_best_threshold(y_val, y_pred):\n",
        "\n",
        "  thresholds = list(np.arange(0.05, 1.0, 0.05))\n",
        "\n",
        "  prec = Precision(thresholds = thresholds)\n",
        "  prec.update_state(y_val, y_pred)\n",
        "  precisions = prec.result()\n",
        "\n",
        "  rec = Recall(thresholds = thresholds)\n",
        "  rec.update_state(y_val, y_pred)\n",
        "  recalls = rec.result()\n",
        "\n",
        "  max_F1 = 0\n",
        "  best_threshold = 0.1\n",
        "  for precision, recall, threshold in zip(precisions, recalls, thresholds):\n",
        "    F1 = 2 * (precision * recall) / (precision + recall)\n",
        "    if F1 > max_F1:\n",
        "      max_F1 = F1\n",
        "      best_threshold = threshold\n",
        "\n",
        "  return best_threshold"
      ],
      "metadata": {
        "id": "bypxlgNiEpR5"
      },
      "execution_count": null,
      "outputs": []
    },
    {
      "cell_type": "code",
      "source": [
        "def get_tuned_prediction(y_pred, threshold):\n",
        "  return np.array([1 if y>= threshold else 0 for y in y_pred])"
      ],
      "metadata": {
        "id": "TfCx6Lh0FFwg"
      },
      "execution_count": null,
      "outputs": []
    },
    {
      "cell_type": "code",
      "source": [
        "def tuned_prediction_test_news(model, val, test):\n",
        "  model.fit(train[0], train[1])\n",
        "  pred_val = model.predict_proba(val[0])[:,1]\n",
        "  threshold = get_best_threshold(val[1], pred_val)\n",
        "  \n",
        "  pred_test = model.predict_proba(test[0])[:,1]\n",
        "  pred_int = get_tuned_prediction(pred_test, threshold)\n",
        "\n",
        "  print(f\"\\nPrecision: {precision_score(test[1], pred_int):.2f}\")\n",
        "  print(f\"Recall:    {recall_score(test[1], pred_int):.2f}\")\n",
        "  print(f'F1:        {f1_score(test[1], pred_int):.2f}\\n')\n",
        "  \n",
        "  cm = confusion_matrix(test[1], pred_int)\n",
        "  cm_display = ConfusionMatrixDisplay(confusion_matrix = cm, display_labels = [\"FAKE\", \"REAL\"])\n",
        "  cm_display.plot()\n",
        "  plt.show()\n",
        "\n",
        "  return threshold"
      ],
      "metadata": {
        "id": "hxJwkamAJSsx"
      },
      "execution_count": null,
      "outputs": []
    },
    {
      "cell_type": "code",
      "source": [
        "thr = tuned_prediction_test_news(model_logreg, val, test)"
      ],
      "metadata": {
        "colab": {
          "base_uri": "https://localhost:8080/",
          "height": 536
        },
        "id": "1o5zygf3F1hA",
        "outputId": "6c5d7293-0d37-49ee-f2d3-59fbe581319c"
      },
      "execution_count": null,
      "outputs": [
        {
          "output_type": "stream",
          "name": "stdout",
          "text": [
            "\n",
            "Precision: 0.56\n",
            "Recall:    0.98\n",
            "F1:        0.72\n",
            "\n"
          ]
        },
        {
          "output_type": "display_data",
          "data": {
            "text/plain": [
              "<Figure size 640x480 with 2 Axes>"
            ],
            "image/png": "[encoded data removed]"
          },
          "metadata": {}
        }
      ]
    },
    {
      "cell_type": "code",
      "source": [
        "thr"
      ],
      "metadata": {
        "colab": {
          "base_uri": "https://localhost:8080/"
        },
        "id": "j3qME0M2OS2g",
        "outputId": "581f2fcf-cf3c-4ef5-bc45-8b71aa3fd526"
      },
      "execution_count": null,
      "outputs": [
        {
          "output_type": "execute_result",
          "data": {
            "text/plain": [
              "0.5"
            ]
          },
          "metadata": {},
          "execution_count": 63
        }
      ]
    },
    {
      "cell_type": "markdown",
      "source": [
        "# Searching for similiar news"
      ],
      "metadata": {
        "id": "6ulEMYWxZZTI"
      }
    },
    {
      "cell_type": "code",
      "source": [
        "from sentence_transformers import util"
      ],
      "metadata": {
        "id": "QHgcHA50PNYw"
      },
      "execution_count": null,
      "outputs": []
    },
    {
      "cell_type": "code",
      "source": [
        "def find_similiar_news(news_nr, alike_nr):\n",
        "\n",
        "  selected_news = allnews.sample(news_nr)['news'].reset_index(drop=True)\n",
        "  selected_emb = model_sentrans.encode(selected_news, convert_to_numpy=True)\n",
        "  searched_news = allnews['news']\n",
        "  searched_emb = X_matrix\n",
        "\n",
        "  cos_dist = util.cos_sim(selected_emb, searched_emb)\n",
        "\n",
        "  dict_similiar = {}\n",
        "  for ind1, selected in enumerate(selected_news):\n",
        "    similiar = []\n",
        "    for ind2, searched in enumerate(searched_news):\n",
        "      if searched!=selected:\n",
        "        similiar.append([cos_dist[ind1,ind2], searched])\n",
        "    \n",
        "    similiar = sorted(similiar, key=lambda x: x[0], reverse=True)\n",
        "    dict_similiar[ind1] = []\n",
        "    while len(dict_similiar[ind1])<alike_nr:\n",
        "      if similiar[0][1] not in dict_similiar[ind1]:\n",
        "        dict_similiar[ind1].append(similiar.pop(0)[1])\n",
        "      else:\n",
        "        similiar.pop(0)\n",
        "\n",
        "  for ind1 in dict_similiar.keys():\n",
        "    print(\"\\nFor this news:\")\n",
        "    print(\"==========================================================\")\n",
        "    print(selected_news[ind1])\n",
        "    print(\"==========================================================\")\n",
        "    print(f\"I've found these {alike_nr} similiar news:\")\n",
        "    print(\"----------------------------------------------------------\")\n",
        "    for n in range(alike_nr):\n",
        "      print(f\"{n+1}: {dict_similiar[ind1][n]}\")\n",
        "    print(\"----------------------------------------------------------\")"
      ],
      "metadata": {
        "id": "uKX0IuBZOqBa"
      },
      "execution_count": null,
      "outputs": []
    },
    {
      "cell_type": "code",
      "source": [
        "find_similiar_news(5,5)"
      ],
      "metadata": {
        "colab": {
          "base_uri": "https://localhost:8080/"
        },
        "id": "T9ftUNakYCpA",
        "outputId": "1a6c759e-01ac-44e9-aed9-1d0554284ced"
      },
      "execution_count": null,
      "outputs": [
        {
          "output_type": "stream",
          "name": "stdout",
          "text": [
            "\n",
            "For this news:\n",
            "==========================================================\n",
            "kendall jenner blake griffin close break\n",
            "==========================================================\n",
            "I've found these 5 similiar news:\n",
            "----------------------------------------------------------\n",
            "1: kendall jenner blake griffin clash\n",
            "2: kendall jenner blake griffin meet here know\n",
            "3: kendall jenner attend premiere beau blake griffin\n",
            "4: kendall jenner blake griffin inside relationship\n",
            "5: kendall jenner get animate blake griffin basketball game\n",
            "----------------------------------------------------------\n",
            "\n",
            "For this news:\n",
            "==========================================================\n",
            "reverse course epa say fracking contaminate drinking water new york time\n",
            "==========================================================\n",
            "I've found these 5 similiar news:\n",
            "----------------------------------------------------------\n",
            "1: study fracking contaminate groundwater breitbart\n",
            "2: trump tap climate change skeptic fracking advocate key energy advisor\n",
            "3: epa chief doubt consensus view climate change new york time\n",
            "4: coverup toxic water flow faster fact epa\n",
            "5: oops hypocrite hillary us flint water crisis prop campaignignores major 1992 clinton water pollution scandal\n",
            "----------------------------------------------------------\n",
            "\n",
            "For this news:\n",
            "==========================================================\n",
            "import hate intolerance ushas import 674000 migrant country execute gay\n",
            "==========================================================\n",
            "I've found these 5 similiar news:\n",
            "----------------------------------------------------------\n",
            "1: gay trump supporter get death threat gay people support candidate receives multimillion dollar contribution country execute gay\n",
            "2: two lgbt men horrifically burn antigay hate attack\n",
            "3: concerned islamsanctioned persecution gay muslim gay come force trump\n",
            "4: hate crime intensify since trump election\n",
            "5: amnesty international brilliant gay turtle experiment mock absurdity homophobia\n",
            "----------------------------------------------------------\n",
            "\n",
            "For this news:\n",
            "==========================================================\n",
            "look clinton marriage woes raise question really new york time\n",
            "==========================================================\n",
            "I've found these 5 similiar news:\n",
            "----------------------------------------------------------\n",
            "1: difficult question much clintontrump debate matter new york time\n",
            "2: hillary clinton ask ultrarich new york time\n",
            "3: key clintonsanders debate new york\n",
            "4: watch wince clinton stumble new york time\n",
            "5: understand clinton moment consider come 32 year ferraros new york time\n",
            "----------------------------------------------------------\n",
            "\n",
            "For this news:\n",
            "==========================================================\n",
            "sad hillary clinton finally concede trump publicly\n",
            "==========================================================\n",
            "I've found these 5 similiar news:\n",
            "----------------------------------------------------------\n",
            "1: hillary finally concedes painful long time\n",
            "2: trump concedes call clinton congratulate\n",
            "3: clinton emotional concession painful long time\n",
            "4: donald trump win presidency historic mandate victory hillary clinton concedes\n",
            "5: hillary accept defeat\n",
            "----------------------------------------------------------\n"
          ]
        }
      ]
    },
    {
      "cell_type": "markdown",
      "source": [
        "# Summary"
      ],
      "metadata": {
        "id": "tMbJfeq8agxY"
      }
    },
    {
      "cell_type": "markdown",
      "source": [
        "News were transformed using SentenceTransformer model. Obtained vectors were features for training classification model based on Logistic Regression, which hiperparameter was tuned using Optuna. The F1 score achieved 0.72, which was the best result among other trials in this project. Then, based on predicted probabilities, the best threshold separating label to 0 and 1 was found. It turned out to be 0.5, so this attempt didn't improve the result. At the end, using cosine distance in vector space, news similiar to several randomly selected ones were found."
      ],
      "metadata": {
        "id": "oiBwsflfaiTo"
      }
    }
  ]
}